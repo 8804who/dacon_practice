{
 "cells": [
  {
   "cell_type": "code",
   "execution_count": null,
   "metadata": {},
   "outputs": [],
   "source": [
    "import glob\n",
    "import pandas as pd\n",
    "import random\n",
    "\n",
    "random.seed(42)\n",
    "path = './data/train_code'"
   ]
  },
  {
   "cell_type": "code",
   "execution_count": null,
   "metadata": {},
   "outputs": [],
   "source": [
    "pair_proportion = 0.5 #레이블 비율 설정(같은 문제를 해결하는 코드끼리 묶여있는 짝의 비율)\n",
    "\n",
    "pair = int(250*pair_proportion)\n",
    "not_pair = 250-pair\n",
    "sample_num = random.sample([i for i in range(500)], k=int(pair*2))\n",
    "similar = [True if i in sample_num else False for i in range(500)]\n",
    "not_similar = [False if i in sample_num else True for i in range(500)]\n",
    "\n",
    "df = pd.DataFrame()\n",
    "df2 = pd.DataFrame()"
   ]
  },
  {
   "cell_type": "code",
   "execution_count": null,
   "metadata": {},
   "outputs": [],
   "source": [
    "for idx in range(1,501):\n",
    "  code_paths = glob.glob(path+'/problem{idx:03d}/*.cpp'.format(idx=idx))\n",
    "  codes = [''.join(open('{code_path}'.format(code_path=code_path),encoding='utf-8').readlines()) for code_path in code_paths]\n",
    "  df = pd.concat([df, pd.DataFrame({'problem{idx:03d}'.format(idx=idx): codes})], axis=1)"
   ]
  },
  {
   "cell_type": "code",
   "execution_count": null,
   "metadata": {},
   "outputs": [],
   "source": [
    "temp = df[similar]\n",
    "for idx in range(1,501):\n",
    "  temp1 = list(temp['problem{idx:03d}'.format(idx=idx)])\n",
    "  code1 = [temp1[i] for i in range(0,pair*2,2)]\n",
    "  code2 = [temp1[i+1] for i in range(0,pair*2,2)]\n",
    "  similar = [1 for _ in range(0,pair*2,2)]\n",
    "  df2 = pd.concat([df2,pd.DataFrame({'code1': code1, 'code2': code2, 'similar': similar})])"
   ]
  },
  {
   "cell_type": "code",
   "execution_count": null,
   "metadata": {},
   "outputs": [],
   "source": [
    "temp = df[not_similar]\n",
    "for idx in range(0,not_pair*2):\n",
    "  temp1 = [i[1] for i in temp.iloc[idx].items()]\n",
    "  random.shuffle(temp1)\n",
    "  code1 = [temp1[i] for i in range(0,500,2)]\n",
    "  code2 = [temp1[i+1] for i in range(0,500,2)]\n",
    "  similar = [0 for i in range(0,500,2)]\n",
    "  df2 = pd.concat([df2,pd.DataFrame({'code1': code1, 'code2': code2, 'similar': similar})])"
   ]
  },
  {
   "cell_type": "code",
   "execution_count": null,
   "metadata": {},
   "outputs": [],
   "source": [
    "df2"
   ]
  },
  {
   "cell_type": "code",
   "execution_count": null,
   "metadata": {},
   "outputs": [],
   "source": [
    "df2.isna().sum()"
   ]
  },
  {
   "cell_type": "code",
   "execution_count": null,
   "metadata": {},
   "outputs": [],
   "source": [
    "df2 = df2.sample(frac=1).reset_index(drop=True)"
   ]
  },
  {
   "cell_type": "code",
   "execution_count": null,
   "metadata": {},
   "outputs": [],
   "source": [
    "df2.to_csv('./train.csv', index=False)"
   ]
  }
 ],
 "metadata": {
  "kernelspec": {
   "display_name": "Python 3",
   "language": "python",
   "name": "python3"
  },
  "language_info": {
   "codemirror_mode": {
    "name": "ipython",
    "version": 3
   },
   "file_extension": ".py",
   "mimetype": "text/x-python",
   "name": "python",
   "nbconvert_exporter": "python",
   "pygments_lexer": "ipython3",
   "version": "3.12.2"
  }
 },
 "nbformat": 4,
 "nbformat_minor": 2
}
