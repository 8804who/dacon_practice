{
 "cells": [
  {
   "cell_type": "code",
   "execution_count": 15,
   "metadata": {},
   "outputs": [],
   "source": [
    "import pandas as pd\n",
    "import numpy as np"
   ]
  },
  {
   "cell_type": "code",
   "execution_count": 16,
   "metadata": {},
   "outputs": [],
   "source": [
    "ensemble_list = []"
   ]
  },
  {
   "cell_type": "code",
   "execution_count": 17,
   "metadata": {},
   "outputs": [],
   "source": [
    "temp = pd.read_csv('./probs/{file_name}'.format(file_name=ensemble_list[0]))\n",
    "prob_0 = np.array([temp['probs_0']])\n",
    "prob_1 = np.array([temp['probs_1']])\n",
    "\n",
    "for ensemble_csv in ensemble_list[1:]:\n",
    "    temp = pd.read_csv('./probs/{file_name}'.format(file_name=ensemble_csv))\n",
    "    p0 = np.array([temp['probs_0']])\n",
    "    p1 = np.array([temp['probs_1']])\n",
    "    prob_0 = np.append(prob_0, p0,axis=0)\n",
    "    prob_1 = np.append(prob_1, p1,axis=0)\n",
    "\n",
    "prob_0 = np.mean(prob_0,axis=0)\n",
    "prob_1 = np.mean(prob_1,axis=0)"
   ]
  },
  {
   "cell_type": "code",
   "execution_count": 18,
   "metadata": {},
   "outputs": [],
   "source": [
    "probs = np.append([prob_0],[prob_1],axis=0)"
   ]
  },
  {
   "cell_type": "code",
   "execution_count": 19,
   "metadata": {},
   "outputs": [],
   "source": [
    "preds = np.argmax(probs,axis=0)"
   ]
  },
  {
   "cell_type": "code",
   "execution_count": 20,
   "metadata": {},
   "outputs": [],
   "source": [
    "submission = pd.read_csv('./data/sample_submission.csv')\n",
    "submission['similar'] = preds\n",
    "submission.to_csv('./ensemble/ensemble.csv', index=False)"
   ]
  }
 ],
 "metadata": {
  "kernelspec": {
   "display_name": "venv",
   "language": "python",
   "name": "python3"
  },
  "language_info": {
   "codemirror_mode": {
    "name": "ipython",
    "version": 3
   },
   "file_extension": ".py",
   "mimetype": "text/x-python",
   "name": "python",
   "nbconvert_exporter": "python",
   "pygments_lexer": "ipython3",
   "version": "3.12.2"
  }
 },
 "nbformat": 4,
 "nbformat_minor": 2
}
