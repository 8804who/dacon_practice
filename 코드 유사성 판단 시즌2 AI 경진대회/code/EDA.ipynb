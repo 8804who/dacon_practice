{
 "cells": [
  {
   "cell_type": "code",
   "execution_count": 2,
   "metadata": {},
   "outputs": [
    {
     "name": "stderr",
     "output_type": "stream",
     "text": [
      "c:\\Users\\8804w\\anaconda3\\envs\\venv\\Lib\\site-packages\\tqdm\\auto.py:21: TqdmWarning: IProgress not found. Please update jupyter and ipywidgets. See https://ipywidgets.readthedocs.io/en/stable/user_install.html\n",
      "  from .autonotebook import tqdm as notebook_tqdm\n"
     ]
    }
   ],
   "source": [
    "import numpy as np\n",
    "import pandas as pd\n",
    "import re\n",
    "from transformers import AutoTokenizer\n",
    "\n",
    "tokenizer = AutoTokenizer.from_pretrained(\"neulab/codebert-cpp\")"
   ]
  },
  {
   "cell_type": "code",
   "execution_count": null,
   "metadata": {},
   "outputs": [],
   "source": [
    "train_df = pd.read_csv('./data/train_seed42.csv')"
   ]
  },
  {
   "cell_type": "code",
   "execution_count": null,
   "metadata": {},
   "outputs": [],
   "source": [
    "def remove_links(x):\n",
    "    x = re.sub(r'https*\\S+', ' ', x) # remove links\n",
    "    x = re.sub(r'http*\\S+', ' ', x)\n",
    "    return x"
   ]
  },
  {
   "cell_type": "code",
   "execution_count": null,
   "metadata": {},
   "outputs": [],
   "source": [
    "def remove_annotation(x):\n",
    "    x = x+'\\n'\n",
    "    x = re.sub(r'\\n.*\\\\\\n','\\n',x)\n",
    "    x = re.sub(r'//.*\\n','\\n',x)\n",
    "    x = re.sub(r'/\\*.*\\*/','',x)\n",
    "    x = re.sub(r'#if 0.*#endif','',x)\n",
    "    return x"
   ]
  },
  {
   "cell_type": "code",
   "execution_count": null,
   "metadata": {},
   "outputs": [],
   "source": [
    "def standardize_sign(x):\n",
    "    x = re.sub(r' +', ' ', x)\n",
    "    x = re.sub(r' \\+ | \\+|\\+ ','+',x)\n",
    "    x = re.sub(r' - | -|- ','-',x)\n",
    "    x = re.sub(r' \\* | \\*|\\* ','*',x)\n",
    "    x = re.sub(r' / | /|/ ','/',x)\n",
    "    x = re.sub(r' % | %|% ','%',x)\n",
    "    x = re.sub(r' = | =|= ','=',x)\n",
    "    x = re.sub(r' > | >|> ','>',x)\n",
    "    x = re.sub(r' < | <|< ','=',x)\n",
    "    x = re.sub(r' !','!',x)\n",
    "    x = re.sub(r' & | &|& ','&',x)\n",
    "    x = re.sub(r' \\| | \\||\\| ', '|', x)\n",
    "    x = re.sub(r' : | :|: ',':',x)\n",
    "    x = re.sub(r' \\? | \\?|\\? ','?',x)\n",
    "    return x"
   ]
  },
  {
   "cell_type": "code",
   "execution_count": null,
   "metadata": {},
   "outputs": [],
   "source": [
    "def remove_std(x):\n",
    "    x = re.sub(r'std::','',x)\n",
    "    x = re.sub(r'using namespace std;','',x)\n",
    "    return x"
   ]
  },
  {
   "cell_type": "code",
   "execution_count": null,
   "metadata": {},
   "outputs": [],
   "source": [
    "def remove_include(x):\n",
    "    x = re.sub(r'#include.*>','',x)\n",
    "    return x"
   ]
  },
  {
   "cell_type": "code",
   "execution_count": null,
   "metadata": {},
   "outputs": [],
   "source": [
    "def text_clean(x):\n",
    "    x = x.lower() # lowercase everything\n",
    "    x = x.encode('ascii', 'ignore').decode()  # remove unicode characters\n",
    "    x = remove_links(x)\n",
    "    x = remove_annotation(x)\n",
    "    x = standardize_sign(x)\n",
    "    x = re.sub(r'\\n', ' ', x)\n",
    "    x = re.sub(r'\\t', ' ', x)\n",
    "    x = re.sub(r' +', ' ', x)\n",
    "    return x"
   ]
  },
  {
   "cell_type": "code",
   "execution_count": null,
   "metadata": {},
   "outputs": [],
   "source": [
    "train_df['code1'] = list(map(text_clean, train_df['code1']))\n",
    "train_df['code2'] = list(map(text_clean, train_df['code2']))"
   ]
  },
  {
   "cell_type": "code",
   "execution_count": null,
   "metadata": {},
   "outputs": [],
   "source": [
    "train_df['len_code1'] = [len(code) for code in train_df['code1']]\n",
    "train_df['len_code2'] = [len(code) for code in train_df['code2']]\n",
    "train_df['len_token_code1'] = [len(tokenizer.encode(code)) for code in train_df['code1']]\n",
    "train_df['len_token_code2'] = [len(tokenizer.encode(code)) for code in train_df['code2']]"
   ]
  },
  {
   "cell_type": "code",
   "execution_count": null,
   "metadata": {},
   "outputs": [],
   "source": [
    "train_df.describe()"
   ]
  }
 ],
 "metadata": {
  "kernelspec": {
   "display_name": "venv",
   "language": "python",
   "name": "python3"
  },
  "language_info": {
   "codemirror_mode": {
    "name": "ipython",
    "version": 3
   },
   "file_extension": ".py",
   "mimetype": "text/x-python",
   "name": "python",
   "nbconvert_exporter": "python",
   "pygments_lexer": "ipython3",
   "version": "3.12.2"
  }
 },
 "nbformat": 4,
 "nbformat_minor": 2
}
