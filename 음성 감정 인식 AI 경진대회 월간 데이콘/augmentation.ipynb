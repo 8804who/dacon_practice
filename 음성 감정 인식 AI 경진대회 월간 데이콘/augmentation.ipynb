{
 "cells": [
  {
   "cell_type": "code",
   "execution_count": 30,
   "metadata": {},
   "outputs": [],
   "source": [
    "import librosa\n",
    "import numpy as np\n",
    "import soundfile as sf\n",
    "import pandas as pd"
   ]
  },
  {
   "cell_type": "code",
   "execution_count": 31,
   "metadata": {},
   "outputs": [],
   "source": [
    "def adding_white_noise(data, filename, sr=16000, noise_rate=0.005):\n",
    "    # noise 방식으로 일반적으로 쓰는 잡음 끼게 하는 겁니다.\n",
    "    wn = np.random.randn(len(data))\n",
    "    data_wn = data + noise_rate*wn\n",
    "    sf.write('../data/train/augment/'+filename+'_white_noise.wav', data_wn, sr) # 저장"
   ]
  },
  {
   "cell_type": "code",
   "execution_count": 32,
   "metadata": {},
   "outputs": [],
   "source": [
    "def shifting_sound(data, filename, sr=16000, roll_rate=0.1):\n",
    "    # 그냥 [1, 2, 3, 4] 를 [4, 1, 2, 3]으로 만들어주는겁니다.\n",
    "    data_roll = np.roll(data, int(len(data) * roll_rate))\n",
    "    sf.write('../data/train/augment/'+filename+'_rolling_sound.wav', data_roll, sr=sr)"
   ]
  },
  {
   "cell_type": "code",
   "execution_count": 33,
   "metadata": {},
   "outputs": [],
   "source": [
    "def stretch_sound(data, filename, sr=16000, rate=0.8):\n",
    "    # stretch 해주는 것 테이프 늘어진 것처럼 들린다.\n",
    "    stretch_data = librosa.effects.time_stretch(data, rate)\n",
    "    sf.write('../data/train/augment/'+filename+'_stretch_data.wav', stretch_data, sr=sr)"
   ]
  },
  {
   "cell_type": "code",
   "execution_count": 34,
   "metadata": {},
   "outputs": [],
   "source": [
    "def reverse_sound(data, filename, sr=16000):\n",
    "    # 거꾸로 재생\n",
    "    data_len = len(data)\n",
    "    data = np.array([data[len(data)-1-i] for i in range(len(data))])\n",
    "    sf.write('../data/train/augment/'+filename+'_reverse_sound.wav', data, sr=sr)"
   ]
  },
  {
   "cell_type": "code",
   "execution_count": 35,
   "metadata": {},
   "outputs": [],
   "source": [
    "def minus_sound(data, filename, sr=16000):\n",
    "    # 위상을 뒤집는 것으로서 원래 소리와 똑같이 들린다.\n",
    "    temp_numpy = (-1)*data\n",
    "    sf.write('../data/train/augment/'+filename+'_minus_sound.wav', temp_numpy, sr=sr)"
   ]
  },
  {
   "cell_type": "code",
   "execution_count": 36,
   "metadata": {},
   "outputs": [],
   "source": [
    "datas = pd.read_csv('../data/train.csv')\n",
    "for data in datas.head().itertuples():\n",
    "    y, _ = librosa.load('../data'+data.path[1:], sr=16000)\n",
    "    adding_white_noise(y, data.id)"
   ]
  },
  {
   "cell_type": "code",
   "execution_count": null,
   "metadata": {},
   "outputs": [],
   "source": []
  }
 ],
 "metadata": {
  "kernelspec": {
   "display_name": "base",
   "language": "python",
   "name": "python3"
  },
  "language_info": {
   "codemirror_mode": {
    "name": "ipython",
    "version": 3
   },
   "file_extension": ".py",
   "mimetype": "text/x-python",
   "name": "python",
   "nbconvert_exporter": "python",
   "pygments_lexer": "ipython3",
   "version": "3.8.5"
  },
  "orig_nbformat": 4
 },
 "nbformat": 4,
 "nbformat_minor": 2
}
